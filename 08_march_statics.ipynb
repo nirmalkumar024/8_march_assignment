{
 "cells": [
  {
   "cell_type": "markdown",
   "id": "ff27034e-1515-4a25-a555-64da4797c700",
   "metadata": {},
   "source": [
    "1.What is the Probability density function?"
   ]
  },
  {
   "cell_type": "markdown",
   "id": "c438772f-bef5-42ba-98c1-ec9d7f3050fb",
   "metadata": {},
   "source": [
    "it is the function which describe the continuious data.\n",
    "examples:-height of the student,mesurment of houses"
   ]
  },
  {
   "cell_type": "markdown",
   "id": "f84ffcb1-2c91-436e-937f-b128d175c248",
   "metadata": {},
   "source": [
    "2.What are the types of Probability distribution?"
   ]
  },
  {
   "cell_type": "code",
   "execution_count": 1,
   "id": "90e13945-d40b-417e-ac2a-ada1d11a18fc",
   "metadata": {},
   "outputs": [
    {
     "ename": "SyntaxError",
     "evalue": "invalid decimal literal (3900372756.py, line 2)",
     "output_type": "error",
     "traceback": [
      "\u001b[0;36m  Cell \u001b[0;32mIn[1], line 2\u001b[0;36m\u001b[0m\n\u001b[0;31m    1.bernouli distribution\u001b[0m\n\u001b[0m     ^\u001b[0m\n\u001b[0;31mSyntaxError\u001b[0m\u001b[0;31m:\u001b[0m invalid decimal literal\n"
     ]
    }
   ],
   "source": [
    "There are following types of probability distribution\n",
    "1.bernouli distribution\n",
    "2.uniform distribution\n",
    "3.log normal distribution\n",
    "4.poisson distribution\n",
    "5.power low distribution\n",
    "6.binomial distribution\n",
    "7.normal/gaussian distribution"
   ]
  },
  {
   "cell_type": "markdown",
   "id": "da38746f-9af4-45e4-9057-7af9e8892533",
   "metadata": {},
   "source": [
    "3.Write a Python function to calculate the probability density function of a normal distribution with given mean and standard deviation at a given point."
   ]
  },
  {
   "cell_type": "code",
   "execution_count": 2,
   "id": "e0c39f0e-0612-469b-947a-750161893bba",
   "metadata": {},
   "outputs": [],
   "source": [
    "import scipy.stats as stat\n",
    "import pylab\n",
    "import numpy as np\n",
    "import seaborn as sns"
   ]
  },
  {
   "cell_type": "code",
   "execution_count": 3,
   "id": "95515b37-cd07-49de-980f-22d490682d66",
   "metadata": {},
   "outputs": [],
   "source": [
    "df=sns.load_dataset('iris')"
   ]
  },
  {
   "cell_type": "code",
   "execution_count": 4,
   "id": "60a765f6-0b35-4c29-b1b7-992752cbd2ee",
   "metadata": {},
   "outputs": [
    {
     "data": {
      "text/html": [
       "<div>\n",
       "<style scoped>\n",
       "    .dataframe tbody tr th:only-of-type {\n",
       "        vertical-align: middle;\n",
       "    }\n",
       "\n",
       "    .dataframe tbody tr th {\n",
       "        vertical-align: top;\n",
       "    }\n",
       "\n",
       "    .dataframe thead th {\n",
       "        text-align: right;\n",
       "    }\n",
       "</style>\n",
       "<table border=\"1\" class=\"dataframe\">\n",
       "  <thead>\n",
       "    <tr style=\"text-align: right;\">\n",
       "      <th></th>\n",
       "      <th>sepal_length</th>\n",
       "      <th>sepal_width</th>\n",
       "      <th>petal_length</th>\n",
       "      <th>petal_width</th>\n",
       "      <th>species</th>\n",
       "    </tr>\n",
       "  </thead>\n",
       "  <tbody>\n",
       "    <tr>\n",
       "      <th>0</th>\n",
       "      <td>5.1</td>\n",
       "      <td>3.5</td>\n",
       "      <td>1.4</td>\n",
       "      <td>0.2</td>\n",
       "      <td>setosa</td>\n",
       "    </tr>\n",
       "    <tr>\n",
       "      <th>1</th>\n",
       "      <td>4.9</td>\n",
       "      <td>3.0</td>\n",
       "      <td>1.4</td>\n",
       "      <td>0.2</td>\n",
       "      <td>setosa</td>\n",
       "    </tr>\n",
       "    <tr>\n",
       "      <th>2</th>\n",
       "      <td>4.7</td>\n",
       "      <td>3.2</td>\n",
       "      <td>1.3</td>\n",
       "      <td>0.2</td>\n",
       "      <td>setosa</td>\n",
       "    </tr>\n",
       "    <tr>\n",
       "      <th>3</th>\n",
       "      <td>4.6</td>\n",
       "      <td>3.1</td>\n",
       "      <td>1.5</td>\n",
       "      <td>0.2</td>\n",
       "      <td>setosa</td>\n",
       "    </tr>\n",
       "    <tr>\n",
       "      <th>4</th>\n",
       "      <td>5.0</td>\n",
       "      <td>3.6</td>\n",
       "      <td>1.4</td>\n",
       "      <td>0.2</td>\n",
       "      <td>setosa</td>\n",
       "    </tr>\n",
       "  </tbody>\n",
       "</table>\n",
       "</div>"
      ],
      "text/plain": [
       "   sepal_length  sepal_width  petal_length  petal_width species\n",
       "0           5.1          3.5           1.4          0.2  setosa\n",
       "1           4.9          3.0           1.4          0.2  setosa\n",
       "2           4.7          3.2           1.3          0.2  setosa\n",
       "3           4.6          3.1           1.5          0.2  setosa\n",
       "4           5.0          3.6           1.4          0.2  setosa"
      ]
     },
     "execution_count": 4,
     "metadata": {},
     "output_type": "execute_result"
    }
   ],
   "source": [
    "df.head()"
   ]
  },
  {
   "cell_type": "code",
   "execution_count": 5,
   "id": "7aabb1cb-691e-4185-87b9-0f9dca8b71fc",
   "metadata": {},
   "outputs": [],
   "source": [
    "import matplotlib.pyplot as plt\n",
    "def plot_data(df,feature):\n",
    "    plt.figure(figsize=(10,6))\n",
    "    plt.subplot(1,2,1)\n",
    "    df[feature].hist()\n",
    "    plt.subplot(1,2,2)\n",
    "    stat.probplot(df[feature],dist='norm')\n",
    "    plot=pylab()\n",
    "    plt.show()"
   ]
  },
  {
   "cell_type": "code",
   "execution_count": 6,
   "id": "18a8fa10-8083-45f0-a7a9-c6489547943a",
   "metadata": {},
   "outputs": [
    {
     "ename": "TypeError",
     "evalue": "'module' object is not callable",
     "output_type": "error",
     "traceback": [
      "\u001b[0;31m---------------------------------------------------------------------------\u001b[0m",
      "\u001b[0;31mTypeError\u001b[0m                                 Traceback (most recent call last)",
      "Cell \u001b[0;32mIn[6], line 1\u001b[0m\n\u001b[0;32m----> 1\u001b[0m \u001b[43mplot_data\u001b[49m\u001b[43m(\u001b[49m\u001b[43mdf\u001b[49m\u001b[43m,\u001b[49m\u001b[38;5;124;43m'\u001b[39;49m\u001b[38;5;124;43msepal_width\u001b[39;49m\u001b[38;5;124;43m'\u001b[39;49m\u001b[43m)\u001b[49m\n",
      "Cell \u001b[0;32mIn[5], line 8\u001b[0m, in \u001b[0;36mplot_data\u001b[0;34m(df, feature)\u001b[0m\n\u001b[1;32m      6\u001b[0m plt\u001b[38;5;241m.\u001b[39msubplot(\u001b[38;5;241m1\u001b[39m,\u001b[38;5;241m2\u001b[39m,\u001b[38;5;241m2\u001b[39m)\n\u001b[1;32m      7\u001b[0m stat\u001b[38;5;241m.\u001b[39mprobplot(df[feature],dist\u001b[38;5;241m=\u001b[39m\u001b[38;5;124m'\u001b[39m\u001b[38;5;124mnorm\u001b[39m\u001b[38;5;124m'\u001b[39m)\n\u001b[0;32m----> 8\u001b[0m plot\u001b[38;5;241m=\u001b[39m\u001b[43mpylab\u001b[49m\u001b[43m(\u001b[49m\u001b[43m)\u001b[49m\n\u001b[1;32m      9\u001b[0m plt\u001b[38;5;241m.\u001b[39mshow()\n",
      "\u001b[0;31mTypeError\u001b[0m: 'module' object is not callable"
     ]
    },
    {
     "data": {
      "image/png": "[encoded data removed]",
      "text/plain": [
       "<Figure size 1000x600 with 2 Axes>"
      ]
     },
     "metadata": {},
     "output_type": "display_data"
    }
   ],
   "source": [
    "plot_data(df,'sepal_width')"
   ]
  },
  {
   "cell_type": "code",
   "execution_count": null,
   "id": "f557d034-98e1-4347-af51-56841bd3ef91",
   "metadata": {},
   "outputs": [],
   "source": [
    "#i take only one point to show mean and std"
   ]
  },
  {
   "cell_type": "code",
   "execution_count": 7,
   "id": "ce085ad1-73d6-43a0-a8c7-b6f1c1228549",
   "metadata": {},
   "outputs": [
    {
     "data": {
      "text/plain": [
       "3.0573333333333337"
      ]
     },
     "execution_count": 7,
     "metadata": {},
     "output_type": "execute_result"
    }
   ],
   "source": [
    "df['sepal_width'].mean()"
   ]
  },
  {
   "cell_type": "code",
   "execution_count": 8,
   "id": "90a77687-8a27-414c-897f-0b0b3f50ae21",
   "metadata": {},
   "outputs": [
    {
     "data": {
      "text/plain": [
       "0.435866284936698"
      ]
     },
     "execution_count": 8,
     "metadata": {},
     "output_type": "execute_result"
    }
   ],
   "source": [
    "df['sepal_width'].std()"
   ]
  },
  {
   "cell_type": "markdown",
   "id": "2f1fb084-a054-4657-93b9-a4f60365e96d",
   "metadata": {},
   "source": [
    "4 What are the properties of Binomial distribution? Give two examples of events where binomial distribution can be applied."
   ]
  },
  {
   "cell_type": "markdown",
   "id": "42400511-b571-42d6-ade7-39963a817e03",
   "metadata": {},
   "source": [
    "1:The number of observations n is fixed. \n",
    " 2: Each observation is independent. \n",
    " 3: Each observation represents one of two outcomes (\"success\" or \"failure\").\n",
    " 4: The probability of \"success\" p is the same for each outcome.\n",
    " \n",
    " It is use where we have to bollean value outcome. and where we have independent outcome need."
   ]
  },
  {
   "cell_type": "markdown",
   "id": "d4b794d9-e8bd-402c-b487-5091e6d66954",
   "metadata": {},
   "source": [
    "5.Generate a random sample of size 1000 from a binomial distribution with probability of success 0.4 and plot a histogram of the results using matplotlib."
   ]
  },
  {
   "cell_type": "code",
   "execution_count": null,
   "id": "6aec773b-45c8-454c-a6c7-19c68d9a3b35",
   "metadata": {},
   "outputs": [],
   "source": [
    "import numpy as np\n",
    "import matplotlib.pyplot as plt\n",
    "df=np.random.rand(10000)\n",
    "pb=0.4"
   ]
  },
  {
   "cell_type": "code",
   "execution_count": null,
   "id": "bd9461dc-780b-4005-918f-d080afd3a005",
   "metadata": {},
   "outputs": [],
   "source": [
    "df"
   ]
  },
  {
   "cell_type": "code",
   "execution_count": null,
   "id": "121dc8c7-c33b-4068-87cf-ab1f1151fd53",
   "metadata": {},
   "outputs": [],
   "source": [
    "plt.bar(df,pb)"
   ]
  },
  {
   "cell_type": "markdown",
   "id": "e7047e23-5944-419b-8263-3002e0bdaf28",
   "metadata": {},
   "source": [
    "6.Write a Python function to calculate the cumulative distribution function of a Poisson distribution with given mean at a given point.\n"
   ]
  },
  {
   "cell_type": "code",
   "execution_count": null,
   "id": "277c1de0-56e9-41eb-9245-95d39f970db9",
   "metadata": {},
   "outputs": [],
   "source": [
    "#take the data to perform the task\n",
    "age=[12,15,87,25,23]\n",
    "#num of event=5"
   ]
  },
  {
   "cell_type": "code",
   "execution_count": null,
   "id": "3c028550-0a3f-4370-87fc-690aaf28a10b",
   "metadata": {},
   "outputs": [],
   "source": [
    "age.mean()"
   ]
  },
  {
   "cell_type": "markdown",
   "id": "cc21297b-bf3e-4e2f-a68e-99f0e8fc5625",
   "metadata": {},
   "source": [
    "7.How Binomial distribution different from Poisson distribution?"
   ]
  },
  {
   "cell_type": "markdown",
   "id": "2f140724-33de-4c4e-917b-abe5ecd03db0",
   "metadata": {},
   "source": [
    "in binomial distribution we have to get finit number of sample but in poission distribution we get infinit samples."
   ]
  },
  {
   "cell_type": "markdown",
   "id": "ce55aadc-dd48-4f7d-906a-c8d4728970d5",
   "metadata": {},
   "source": [
    "8.Generate a random sample of size 1000 from a Poisson distribution with mean 5 and calculate the sample mean and variance."
   ]
  },
  {
   "cell_type": "markdown",
   "id": "11f36f2b-08a0-4279-b138-b114a3459e8c",
   "metadata": {},
   "source": []
  },
  {
   "cell_type": "markdown",
   "id": "8e84055e-8c5c-44a3-9b80-33952189a14f",
   "metadata": {},
   "source": [
    "9.How mean and variance are related in Binomial distribution and Poisson distribution?"
   ]
  },
  {
   "cell_type": "markdown",
   "id": "119ce495-87e9-4a51-8194-8ba12229a4fa",
   "metadata": {},
   "source": [
    "in both of function mean and variance are relation of their formula, it is following.\n",
    "mean=np:-(no.of experment probabilty)\n",
    "variance=npq\n",
    "for poission distribution:-\n",
    "mean=E(x)=meu=pia*t\n",
    "variance=E(x)-meu=pia*t\n",
    "\n",
    "where:-pia=Expected no.of event occure at every time of interval\n",
    "t=time of interval"
   ]
  },
  {
   "cell_type": "markdown",
   "id": "d8bec72e-be21-4bd7-abc7-b41ffebec13d",
   "metadata": {},
   "source": [
    "10.In normal distribution with respect to mean position, where does the least frequent data appear?"
   ]
  },
  {
   "cell_type": "markdown",
   "id": "072b0393-fc8e-43b4-9345-dcc58dafdaba",
   "metadata": {},
   "source": [
    "In normal distribution with respect to mean position the leastfrequent data appear at well shape of the cure, becase in data set how much data are present and min or max are not defined but least frequent is their end side, of the graph."
   ]
  }
 ],
 "metadata": {
  "kernelspec": {
   "display_name": "Python 3 (ipykernel)",
   "language": "python",
   "name": "python3"
  },
  "language_info": {
   "codemirror_mode": {
    "name": "ipython",
    "version": 3
   },
   "file_extension": ".py",
   "mimetype": "text/x-python",
   "name": "python",
   "nbconvert_exporter": "python",
   "pygments_lexer": "ipython3",
   "version": "3.10.8"
  }
 },
 "nbformat": 4,
 "nbformat_minor": 5
}
